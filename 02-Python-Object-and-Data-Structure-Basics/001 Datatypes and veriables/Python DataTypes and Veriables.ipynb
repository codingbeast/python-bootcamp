{
 "cells": [
  {
   "cell_type": "code",
   "execution_count": 41,
   "id": "2e03d27e",
   "metadata": {},
   "outputs": [
    {
     "name": "stdout",
     "output_type": "stream",
     "text": [
      "<class 'str'>\n"
     ]
    }
   ],
   "source": [
    "#String\n",
    "a = \"nice\"\n",
    "b = 'qt'\n",
    "\n",
    "print(type(a))"
   ]
  },
  {
   "cell_type": "code",
   "execution_count": 43,
   "id": "805bba5e",
   "metadata": {},
   "outputs": [
    {
     "name": "stdout",
     "output_type": "stream",
     "text": [
      "5\n"
     ]
    }
   ],
   "source": [
    "#integer\n",
    "c = 5\n",
    "d=-7\n",
    "print(c)"
   ]
  },
  {
   "cell_type": "code",
   "execution_count": 44,
   "id": "3dfc9de2",
   "metadata": {},
   "outputs": [],
   "source": [
    "#float\n",
    "e = 5.7"
   ]
  },
  {
   "cell_type": "code",
   "execution_count": 46,
   "id": "f1fe37b7",
   "metadata": {},
   "outputs": [
    {
     "name": "stdout",
     "output_type": "stream",
     "text": [
      "['nice', 'qt', 5, -7, 5.7]\n"
     ]
    }
   ],
   "source": [
    "#lists\n",
    "f = [a,b,c,d,e]\n",
    "print(f)"
   ]
  },
  {
   "cell_type": "code",
   "execution_count": 48,
   "id": "c34e8fcf",
   "metadata": {},
   "outputs": [
    {
     "name": "stdout",
     "output_type": "stream",
     "text": [
      "54\n"
     ]
    }
   ],
   "source": [
    "#Dict\n",
    "t = {\"ab\" : 54}\n",
    "print(t['ab'])"
   ]
  },
  {
   "cell_type": "code",
   "execution_count": 49,
   "id": "525b68fe",
   "metadata": {},
   "outputs": [
    {
     "name": "stdout",
     "output_type": "stream",
     "text": [
      "('ab',)\n"
     ]
    }
   ],
   "source": [
    "#tuple\n",
    "tp = (\"ab\",)\n",
    "print(tp)"
   ]
  },
  {
   "cell_type": "code",
   "execution_count": 50,
   "id": "4deb0cdb",
   "metadata": {},
   "outputs": [
    {
     "name": "stdout",
     "output_type": "stream",
     "text": [
      "{9, 4, 5}\n"
     ]
    }
   ],
   "source": [
    "#set\n",
    "sp = {4,5,4,5,9}\n",
    "print(sp)"
   ]
  },
  {
   "cell_type": "code",
   "execution_count": 51,
   "id": "16dc9b67",
   "metadata": {},
   "outputs": [
    {
     "name": "stdout",
     "output_type": "stream",
     "text": [
      "<class 'bool'>\n"
     ]
    }
   ],
   "source": [
    "#bool\n",
    "ab = True\n",
    "print(type(ab))"
   ]
  },
  {
   "cell_type": "code",
   "execution_count": 9,
   "id": "e7900e29",
   "metadata": {},
   "outputs": [],
   "source": [
    "#veriables"
   ]
  },
  {
   "cell_type": "code",
   "execution_count": null,
   "id": "1e9b260b",
   "metadata": {},
   "outputs": [],
   "source": [
    "veriable name  = data"
   ]
  },
  {
   "cell_type": "code",
   "execution_count": null,
   "id": "238d9d17",
   "metadata": {},
   "outputs": [],
   "source": []
  },
  {
   "cell_type": "code",
   "execution_count": null,
   "id": "a29d65d4",
   "metadata": {},
   "outputs": [],
   "source": []
  },
  {
   "cell_type": "code",
   "execution_count": null,
   "id": "8e228229",
   "metadata": {},
   "outputs": [],
   "source": []
  }
 ],
 "metadata": {
  "kernelspec": {
   "display_name": "Python 3",
   "language": "python",
   "name": "python3"
  },
  "language_info": {
   "codemirror_mode": {
    "name": "ipython",
    "version": 3
   },
   "file_extension": ".py",
   "mimetype": "text/x-python",
   "name": "python",
   "nbconvert_exporter": "python",
   "pygments_lexer": "ipython3",
   "version": "3.9.5"
  }
 },
 "nbformat": 4,
 "nbformat_minor": 5
}
