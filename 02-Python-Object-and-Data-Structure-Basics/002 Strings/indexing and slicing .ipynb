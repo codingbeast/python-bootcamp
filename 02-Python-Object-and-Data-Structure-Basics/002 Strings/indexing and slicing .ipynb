{
 "cells": [
  {
   "cell_type": "code",
   "execution_count": 18,
   "id": "4ee4fb5b",
   "metadata": {},
   "outputs": [],
   "source": [
    "name=\"abcde\""
   ]
  },
  {
   "cell_type": "code",
   "execution_count": 28,
   "id": "97a4f78e",
   "metadata": {},
   "outputs": [],
   "source": [
    "#name[n:k] # n .... k-1"
   ]
  },
  {
   "cell_type": "code",
   "execution_count": 29,
   "id": "839450ba",
   "metadata": {},
   "outputs": [
    {
     "data": {
      "text/plain": [
       "'abc'"
      ]
     },
     "execution_count": 29,
     "metadata": {},
     "output_type": "execute_result"
    }
   ],
   "source": [
    "name[0:3]"
   ]
  },
  {
   "cell_type": "code",
   "execution_count": 30,
   "id": "45017818",
   "metadata": {},
   "outputs": [
    {
     "data": {
      "text/plain": [
       "'de'"
      ]
     },
     "execution_count": 30,
     "metadata": {},
     "output_type": "execute_result"
    }
   ],
   "source": [
    "name[3:]"
   ]
  },
  {
   "cell_type": "code",
   "execution_count": 31,
   "id": "37795c24",
   "metadata": {},
   "outputs": [
    {
     "data": {
      "text/plain": [
       "'abcde'"
      ]
     },
     "execution_count": 31,
     "metadata": {},
     "output_type": "execute_result"
    }
   ],
   "source": [
    "name"
   ]
  },
  {
   "cell_type": "code",
   "execution_count": 32,
   "id": "5bb1bedb",
   "metadata": {},
   "outputs": [
    {
     "data": {
      "text/plain": [
       "'abc'"
      ]
     },
     "execution_count": 32,
     "metadata": {},
     "output_type": "execute_result"
    }
   ],
   "source": [
    "name[:3]"
   ]
  },
  {
   "cell_type": "code",
   "execution_count": 33,
   "id": "b1a74ca6",
   "metadata": {},
   "outputs": [],
   "source": [
    "#name[starting:ending:steps]"
   ]
  },
  {
   "cell_type": "code",
   "execution_count": 36,
   "id": "98788d0c",
   "metadata": {},
   "outputs": [
    {
     "data": {
      "text/plain": [
       "'abcdef'"
      ]
     },
     "execution_count": 36,
     "metadata": {},
     "output_type": "execute_result"
    }
   ],
   "source": [
    "name ='abcdef'\n",
    "name"
   ]
  },
  {
   "cell_type": "code",
   "execution_count": 48,
   "id": "f14381c2",
   "metadata": {},
   "outputs": [
    {
     "data": {
      "text/plain": [
       "'fc'"
      ]
     },
     "execution_count": 48,
     "metadata": {},
     "output_type": "execute_result"
    }
   ],
   "source": [
    "name[::-3]"
   ]
  },
  {
   "cell_type": "code",
   "execution_count": null,
   "id": "1d1a9e81",
   "metadata": {},
   "outputs": [],
   "source": []
  }
 ],
 "metadata": {
  "kernelspec": {
   "display_name": "Python 3",
   "language": "python",
   "name": "python3"
  },
  "language_info": {
   "codemirror_mode": {
    "name": "ipython",
    "version": 3
   },
   "file_extension": ".py",
   "mimetype": "text/x-python",
   "name": "python",
   "nbconvert_exporter": "python",
   "pygments_lexer": "ipython3",
   "version": "3.9.5"
  }
 },
 "nbformat": 4,
 "nbformat_minor": 5
}
